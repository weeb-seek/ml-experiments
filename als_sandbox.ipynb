{
 "cells": [
  {
   "cell_type": "code",
   "execution_count": 8,
   "metadata": {},
   "outputs": [],
   "source": [
    "import implicit\n",
    "import pandas as pd\n",
    "import numpy as np\n",
    "from implicit import evaluation\n",
    "from scipy import sparse\n",
    "\n",
    "from src.conf import settings, COL_NAMES"
   ]
  },
  {
   "cell_type": "code",
   "execution_count": null,
   "metadata": {},
   "outputs": [
    {
     "data": {
      "text/html": [
       "<div>\n",
       "<style scoped>\n",
       "    .dataframe tbody tr th:only-of-type {\n",
       "        vertical-align: middle;\n",
       "    }\n",
       "\n",
       "    .dataframe tbody tr th {\n",
       "        vertical-align: top;\n",
       "    }\n",
       "\n",
       "    .dataframe thead th {\n",
       "        text-align: right;\n",
       "    }\n",
       "</style>\n",
       "<table border=\"1\" class=\"dataframe\">\n",
       "  <thead>\n",
       "    <tr style=\"text-align: right;\">\n",
       "      <th></th>\n",
       "      <th>item_id</th>\n",
       "      <th>favorite</th>\n",
       "      <th>score</th>\n",
       "      <th>status</th>\n",
       "      <th>progress</th>\n",
       "      <th>user_id</th>\n",
       "    </tr>\n",
       "  </thead>\n",
       "  <tbody>\n",
       "    <tr>\n",
       "      <th>0</th>\n",
       "      <td>1</td>\n",
       "      <td>0</td>\n",
       "      <td>8</td>\n",
       "      <td>completed</td>\n",
       "      <td>26</td>\n",
       "      <td>1</td>\n",
       "    </tr>\n",
       "    <tr>\n",
       "      <th>1</th>\n",
       "      <td>1000</td>\n",
       "      <td>0</td>\n",
       "      <td>0</td>\n",
       "      <td>plan_to_watch</td>\n",
       "      <td>0</td>\n",
       "      <td>1</td>\n",
       "    </tr>\n",
       "    <tr>\n",
       "      <th>2</th>\n",
       "      <td>1002</td>\n",
       "      <td>0</td>\n",
       "      <td>0</td>\n",
       "      <td>plan_to_watch</td>\n",
       "      <td>0</td>\n",
       "      <td>1</td>\n",
       "    </tr>\n",
       "    <tr>\n",
       "      <th>3</th>\n",
       "      <td>1003</td>\n",
       "      <td>0</td>\n",
       "      <td>8</td>\n",
       "      <td>completed</td>\n",
       "      <td>3</td>\n",
       "      <td>1</td>\n",
       "    </tr>\n",
       "    <tr>\n",
       "      <th>4</th>\n",
       "      <td>1004</td>\n",
       "      <td>0</td>\n",
       "      <td>7</td>\n",
       "      <td>completed</td>\n",
       "      <td>1</td>\n",
       "      <td>1</td>\n",
       "    </tr>\n",
       "  </tbody>\n",
       "</table>\n",
       "</div>"
      ],
      "text/plain": [
       "   item_id  favorite  score         status  progress  user_id\n",
       "0        1         0      8      completed        26        1\n",
       "1     1000         0      0  plan_to_watch         0        1\n",
       "2     1002         0      0  plan_to_watch         0        1\n",
       "3     1003         0      8      completed         3        1\n",
       "4     1004         0      7      completed         1        1"
      ]
     },
     "execution_count": 2,
     "metadata": {},
     "output_type": "execute_result"
    }
   ],
   "source": [
    "interactions = pd.read_parquet(settings.paths.interactions_preprocessed)"
   ]
  },
  {
   "cell_type": "code",
   "execution_count": 9,
   "metadata": {},
   "outputs": [],
   "source": [
    "interactions_completed = interactions[interactions[COL_NAMES.status] == \"completed\"]"
   ]
  },
  {
   "cell_type": "code",
   "execution_count": 12,
   "metadata": {},
   "outputs": [
    {
     "name": "stderr",
     "output_type": "stream",
     "text": [
      "C:\\Users\\epirt\\AppData\\Local\\Temp\\ipykernel_13468\\3022476591.py:1: SettingWithCopyWarning: \n",
      "A value is trying to be set on a copy of a slice from a DataFrame.\n",
      "Try using .loc[row_indexer,col_indexer] = value instead\n",
      "\n",
      "See the caveats in the documentation: https://pandas.pydata.org/pandas-docs/stable/user_guide/indexing.html#returning-a-view-versus-a-copy\n",
      "  interactions_completed[COL_NAMES.user_id] = interactions_completed[COL_NAMES.user_id].astype(\"category\")\n",
      "C:\\Users\\epirt\\AppData\\Local\\Temp\\ipykernel_13468\\3022476591.py:2: SettingWithCopyWarning: \n",
      "A value is trying to be set on a copy of a slice from a DataFrame.\n",
      "Try using .loc[row_indexer,col_indexer] = value instead\n",
      "\n",
      "See the caveats in the documentation: https://pandas.pydata.org/pandas-docs/stable/user_guide/indexing.html#returning-a-view-versus-a-copy\n",
      "  interactions_completed[COL_NAMES.item_id] = interactions_completed[COL_NAMES.item_id].astype(\"category\")\n"
     ]
    }
   ],
   "source": [
    "interactions_completed[COL_NAMES.user_id] = interactions_completed[COL_NAMES.user_id].astype(\"category\")\n",
    "interactions_completed[COL_NAMES.item_id] = interactions_completed[COL_NAMES.item_id].astype(\"category\")\n",
    "user_id_cat = interactions_completed[COL_NAMES.user_id].cat.codes.values\n",
    "item_id_cat = interactions_completed[COL_NAMES.item_id].cat.codes.values"
   ]
  },
  {
   "cell_type": "code",
   "execution_count": null,
   "metadata": {},
   "outputs": [],
   "source": [
    "ratings = (\n",
    "    (interactions_completed[COL_NAMES.score] +  interactions_completed[COL_NAMES.favorite]) * np.int16(1)\n",
    ").values\n",
    "ratings_csr = sparse.csr_matrix(\n",
    "    (\n",
    "        ratings,\n",
    "        (\n",
    "            user_id_cat,\n",
    "            item_id_cat,\n",
    "        ),\n",
    "    )\n",
    ")"
   ]
  },
  {
   "cell_type": "code",
   "execution_count": null,
   "metadata": {},
   "outputs": [],
   "source": [
    "train_set, test_eval_set = evaluation.train_test_split(ratings_csr, random_state=42)"
   ]
  },
  {
   "cell_type": "code",
   "execution_count": null,
   "metadata": {},
   "outputs": [],
   "source": [
    "model = implicit.als.AlternatingLeastSquares(factors=128, calculate_training_loss=True)\n",
    "model.fit(train_set, show_progress=True)"
   ]
  },
  {
   "cell_type": "code",
   "execution_count": null,
   "metadata": {},
   "outputs": [],
   "source": [
    "rating = evaluation.ranking_metrics_at_k(model, train_set, test_eval_set)"
   ]
  },
  {
   "cell_type": "code",
   "execution_count": null,
   "metadata": {},
   "outputs": [],
   "source": [
    "item_factors = model.item_factors\n",
    "embeddings_index = interactions_completed[\"track_id\"].cat.categories\n",
    "item_embeddings_df = pd.DataFrame(\n",
    "    item_factors.to_numpy(),\n",
    "    index=embeddings_index,\n",
    "    columns=[f\"als_{i}\" for i in range(1, item_factors.shape[1] + 1)]\n",
    ")\n",
    "item_embeddings_df.head()"
   ]
  },
  {
   "cell_type": "code",
   "execution_count": null,
   "metadata": {},
   "outputs": [],
   "source": []
  },
  {
   "cell_type": "code",
   "execution_count": null,
   "metadata": {},
   "outputs": [],
   "source": []
  }
 ],
 "metadata": {
  "kernelspec": {
   "display_name": ".venv",
   "language": "python",
   "name": "python3"
  },
  "language_info": {
   "codemirror_mode": {
    "name": "ipython",
    "version": 3
   },
   "file_extension": ".py",
   "mimetype": "text/x-python",
   "name": "python",
   "nbconvert_exporter": "python",
   "pygments_lexer": "ipython3",
   "version": "3.11.9"
  }
 },
 "nbformat": 4,
 "nbformat_minor": 2
}
